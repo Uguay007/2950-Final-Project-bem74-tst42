{
 "cells": [
  {
   "cell_type": "code",
   "execution_count": 1,
   "metadata": {},
   "outputs": [
    {
     "name": "stdout",
     "output_type": "stream",
     "text": [
      "Requirement already satisfied: bs4 in c:\\users\\test\\anaconda3\\lib\\site-packages (0.0.1)\n",
      "Requirement already satisfied: beautifulsoup4 in c:\\users\\test\\anaconda3\\lib\\site-packages (from bs4) (4.8.0)\n",
      "Requirement already satisfied: soupsieve>=1.2 in c:\\users\\test\\anaconda3\\lib\\site-packages (from beautifulsoup4->bs4) (1.9.3)\n",
      "Requirement already satisfied: lxml in c:\\users\\test\\anaconda3\\lib\\site-packages (4.4.1)\n"
     ]
    }
   ],
   "source": [
    "# importing necessary packages\n",
    "import pandas\n",
    "import numpy\n",
    "import re\n",
    "import sys\n",
    "!{sys.executable} -m pip install bs4\n",
    "!{sys.executable} -m pip install lxml\n",
    "from bs4 import BeautifulSoup\n",
    "from datetime import datetime"
   ]
  },
  {
   "cell_type": "code",
   "execution_count": 2,
   "metadata": {},
   "outputs": [],
   "source": [
    "# Creating an array with names of all the files that need to be scraped. I will loop through these to scrape from them.\n",
    "file_names = ['Arsenal', 'Aston Villa', 'BHA', 'Bournemouth', 'Burnley', 'Chelsea', \\\n",
    "              'Crystal Palace', 'Everton', 'Leicester', 'Liverpool','MCFC','MUFC', \\\n",
    "             'Newcastle', 'Norwich', 'SheffUtd', 'Southampton', 'Tottenham', 'Watford', \\\n",
    "             'West Ham', 'Wolves']\n",
    "files= []\n",
    "for x in file_names:\n",
    "    file = (x + '.html')\n",
    "    files.append(file)"
   ]
  },
  {
   "cell_type": "code",
   "execution_count": 3,
   "metadata": {},
   "outputs": [],
   "source": [
    "# Looping through each file and using BeautifulSoup to scrape player team, name, height, weight, position, and birthdate.\n",
    "# I add those scraped parameters to their respective arrays\n",
    "\n",
    "names = []\n",
    "positions = []\n",
    "heights = []\n",
    "weights = []\n",
    "birthdates = []\n",
    "teams = []\n",
    "\n",
    "for file in files:\n",
    "    with open(file, encoding = 'utf-8') as file_reader:\n",
    "        soup = BeautifulSoup(file_reader, \"lxml\")\n",
    "        players1 = soup.find_all('tr', class_ = 'shsRow0Row')\n",
    "        players2 = soup.find_all(class_ = 'shsRow1Row')\n",
    "        players = players1 + players2\n",
    "        \n",
    "        for player in players:\n",
    "            name = player.find(class_ = \"shsNamD\").getText()\n",
    "            height = player.find(class_ = \"shsPlayerFeet\").getText()\n",
    "            weight = player.find(class_ = \"shsPlayerPounds\").getText()\n",
    "            position = player.find(class_ = \"shsNamD shsRostPos shsHideCol\").getText()\n",
    "            birthdate = player.find_all(class_ = \"shsNumD\")[3].getText()\n",
    "            team = file[:-5]\n",
    "            \n",
    "            names.append(name)\n",
    "            teams.append(team)\n",
    "            positions.append(position)\n",
    "            heights.append(height)\n",
    "            weights.append(weight)\n",
    "            birthdates.append(birthdate)"
   ]
  },
  {
   "cell_type": "code",
   "execution_count": 4,
   "metadata": {
    "scrolled": true
   },
   "outputs": [],
   "source": [
    "#Building the dataframe with the arrays of player data.\n",
    "EPLPlayerInfo = pandas.DataFrame({ 'Team' : teams,\n",
    "                                  'Name' : names,\n",
    "                                  'Position' : positions,\n",
    "                                  'Height' : heights,\n",
    "                                  'Weight' : weights,\n",
    "                                  'Birthdate' : birthdates})"
   ]
  },
  {
   "cell_type": "code",
   "execution_count": 5,
   "metadata": {},
   "outputs": [],
   "source": [
    "# stripping whitespace off of birthdate value in order to convert to datetime object and calculate age\n",
    "for x in range(0, len(EPLPlayerInfo['Birthdate'])):\n",
    "    EPLPlayerInfo['Birthdate'][x] = EPLPlayerInfo['Birthdate'][x].strip()"
   ]
  },
  {
   "cell_type": "code",
   "execution_count": 6,
   "metadata": {},
   "outputs": [],
   "source": [
    "# replacing string dates with datetime object dates, dropping rows with blank birthdate cell\n",
    "for x in range(0, len(EPLPlayerInfo['Birthdate'])):\n",
    "    try:\n",
    "        EPLPlayerInfo['Birthdate'][x] = datetime.strptime(EPLPlayerInfo['Birthdate'][x], \"%m/%d/%Y\")\n",
    "    except:\n",
    "        EPLPlayerInfo = EPLPlayerInfo.drop(index = x)"
   ]
  },
  {
   "cell_type": "code",
   "execution_count": 7,
   "metadata": {},
   "outputs": [],
   "source": [
    "EPLPlayerInfo.reset_index(drop=True, inplace=True)"
   ]
  },
  {
   "cell_type": "code",
   "execution_count": 8,
   "metadata": {},
   "outputs": [],
   "source": [
    "# calculating age from birthdate and adding to age array\n",
    "current_date = datetime(2020, 5, 4)\n",
    "ages = []\n",
    "for x in range(0,len(EPLPlayerInfo['Birthdate'])):\n",
    "    birthday =  EPLPlayerInfo['Birthdate'][x]\n",
    "    age = (current_date.year - birthday.year)\n",
    "    if(current_date.month < birthday.month): age = age - 1\n",
    "    ages.append(age)"
   ]
  },
  {
   "cell_type": "code",
   "execution_count": 9,
   "metadata": {},
   "outputs": [],
   "source": [
    "# adding age column to dataframe, dropping birthdate colum\n",
    "EPLPlayerInfo['Age'] = ages\n",
    "EPLPlayerInfo.drop(axis = 1, labels = 'Birthdate', inplace = True)"
   ]
  },
  {
   "cell_type": "code",
   "execution_count": 10,
   "metadata": {},
   "outputs": [],
   "source": [
    "# dropping all rows which have empty cells, resetting index\n",
    "EPLPlayerInfo.replace('', numpy.nan, inplace = True)\n",
    "EPLPlayerInfo.dropna(how = 'any', inplace = True)\n",
    "EPLPlayerInfo.reset_index(drop=True, inplace=True)"
   ]
  },
  {
   "cell_type": "code",
   "execution_count": 11,
   "metadata": {},
   "outputs": [
    {
     "data": {
      "text/html": [
       "<div>\n",
       "<style scoped>\n",
       "    .dataframe tbody tr th:only-of-type {\n",
       "        vertical-align: middle;\n",
       "    }\n",
       "\n",
       "    .dataframe tbody tr th {\n",
       "        vertical-align: top;\n",
       "    }\n",
       "\n",
       "    .dataframe thead th {\n",
       "        text-align: right;\n",
       "    }\n",
       "</style>\n",
       "<table border=\"1\" class=\"dataframe\">\n",
       "  <thead>\n",
       "    <tr style=\"text-align: right;\">\n",
       "      <th></th>\n",
       "      <th>Team</th>\n",
       "      <th>Name</th>\n",
       "      <th>Position</th>\n",
       "      <th>Height</th>\n",
       "      <th>Weight</th>\n",
       "      <th>Age</th>\n",
       "    </tr>\n",
       "  </thead>\n",
       "  <tbody>\n",
       "    <tr>\n",
       "      <td>0</td>\n",
       "      <td>Arsenal</td>\n",
       "      <td>Bernd Leno</td>\n",
       "      <td>Goalkeeper</td>\n",
       "      <td>6-3</td>\n",
       "      <td>183 lbs</td>\n",
       "      <td>28</td>\n",
       "    </tr>\n",
       "    <tr>\n",
       "      <td>1</td>\n",
       "      <td>Arsenal</td>\n",
       "      <td>Emiliano Martínez</td>\n",
       "      <td>Goalkeeper</td>\n",
       "      <td>6-5</td>\n",
       "      <td>194 lbs</td>\n",
       "      <td>27</td>\n",
       "    </tr>\n",
       "    <tr>\n",
       "      <td>2</td>\n",
       "      <td>Arsenal</td>\n",
       "      <td>Héctor Bellerín</td>\n",
       "      <td>Defender</td>\n",
       "      <td>5-10</td>\n",
       "      <td>163 lbs</td>\n",
       "      <td>25</td>\n",
       "    </tr>\n",
       "    <tr>\n",
       "      <td>3</td>\n",
       "      <td>Arsenal</td>\n",
       "      <td>Calum Chambers</td>\n",
       "      <td>Defender</td>\n",
       "      <td>6-0</td>\n",
       "      <td>146 lbs</td>\n",
       "      <td>25</td>\n",
       "    </tr>\n",
       "    <tr>\n",
       "      <td>4</td>\n",
       "      <td>Arsenal</td>\n",
       "      <td>Rob Holding</td>\n",
       "      <td>Defender</td>\n",
       "      <td>6-0</td>\n",
       "      <td>165 lbs</td>\n",
       "      <td>24</td>\n",
       "    </tr>\n",
       "    <tr>\n",
       "      <td>...</td>\n",
       "      <td>...</td>\n",
       "      <td>...</td>\n",
       "      <td>...</td>\n",
       "      <td>...</td>\n",
       "      <td>...</td>\n",
       "      <td>...</td>\n",
       "    </tr>\n",
       "    <tr>\n",
       "      <td>518</td>\n",
       "      <td>Wolves</td>\n",
       "      <td>Romain Saïss</td>\n",
       "      <td>Midfielder</td>\n",
       "      <td>6-3</td>\n",
       "      <td>168 lbs</td>\n",
       "      <td>30</td>\n",
       "    </tr>\n",
       "    <tr>\n",
       "      <td>519</td>\n",
       "      <td>Wolves</td>\n",
       "      <td>Adama Traoré</td>\n",
       "      <td>Midfielder</td>\n",
       "      <td>5-10</td>\n",
       "      <td>168 lbs</td>\n",
       "      <td>24</td>\n",
       "    </tr>\n",
       "    <tr>\n",
       "      <td>520</td>\n",
       "      <td>Wolves</td>\n",
       "      <td>Leonardo Campana</td>\n",
       "      <td>Forward</td>\n",
       "      <td>5-11</td>\n",
       "      <td>154 lbs</td>\n",
       "      <td>19</td>\n",
       "    </tr>\n",
       "    <tr>\n",
       "      <td>521</td>\n",
       "      <td>Wolves</td>\n",
       "      <td>Raúl Jiménez</td>\n",
       "      <td>Forward</td>\n",
       "      <td>6-2</td>\n",
       "      <td>174 lbs</td>\n",
       "      <td>29</td>\n",
       "    </tr>\n",
       "    <tr>\n",
       "      <td>522</td>\n",
       "      <td>Wolves</td>\n",
       "      <td>Daniel Podence</td>\n",
       "      <td>Forward</td>\n",
       "      <td>5-5</td>\n",
       "      <td>128 lbs</td>\n",
       "      <td>24</td>\n",
       "    </tr>\n",
       "  </tbody>\n",
       "</table>\n",
       "<p>523 rows × 6 columns</p>\n",
       "</div>"
      ],
      "text/plain": [
       "        Team               Name    Position Height   Weight  Age\n",
       "0    Arsenal         Bernd Leno  Goalkeeper    6-3  183 lbs   28\n",
       "1    Arsenal  Emiliano Martínez  Goalkeeper    6-5  194 lbs   27\n",
       "2    Arsenal    Héctor Bellerín    Defender   5-10  163 lbs   25\n",
       "3    Arsenal     Calum Chambers    Defender    6-0  146 lbs   25\n",
       "4    Arsenal        Rob Holding    Defender    6-0  165 lbs   24\n",
       "..       ...                ...         ...    ...      ...  ...\n",
       "518   Wolves       Romain Saïss  Midfielder    6-3  168 lbs   30\n",
       "519   Wolves       Adama Traoré  Midfielder   5-10  168 lbs   24\n",
       "520   Wolves   Leonardo Campana     Forward   5-11  154 lbs   19\n",
       "521   Wolves       Raúl Jiménez     Forward    6-2  174 lbs   29\n",
       "522   Wolves     Daniel Podence     Forward    5-5  128 lbs   24\n",
       "\n",
       "[523 rows x 6 columns]"
      ]
     },
     "execution_count": 11,
     "metadata": {},
     "output_type": "execute_result"
    }
   ],
   "source": [
    "EPLPlayerInfo"
   ]
  },
  {
   "cell_type": "code",
   "execution_count": null,
   "metadata": {},
   "outputs": [],
   "source": []
  }
 ],
 "metadata": {
  "kernelspec": {
   "display_name": "Python 3",
   "language": "python",
   "name": "python3"
  },
  "language_info": {
   "codemirror_mode": {
    "name": "ipython",
    "version": 3
   },
   "file_extension": ".py",
   "mimetype": "text/x-python",
   "name": "python",
   "nbconvert_exporter": "python",
   "pygments_lexer": "ipython3",
   "version": "3.7.4"
  }
 },
 "nbformat": 4,
 "nbformat_minor": 2
}
